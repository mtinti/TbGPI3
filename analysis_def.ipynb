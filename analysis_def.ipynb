{
 "cells": [
  {
   "cell_type": "markdown",
   "metadata": {},
   "source": [
    "![title](static/wcar.png)\n",
    "# Interaction Partners for PIG-A\n",
    "    Zhe Ji, Michele Tinti and Michael A.J. Ferguson\n",
    "\n",
    "    Wellcome Centre for Anti-Infectives Research\n",
    "    School of Life Sciences, University of Dundee"
   ]
  },
  {
   "cell_type": "code",
   "execution_count": 1,
   "metadata": {},
   "outputs": [],
   "source": [
    "#reload library if modified\n",
    "%load_ext autoreload\n",
    "%autoreload 2"
   ]
  },
  {
   "cell_type": "code",
   "execution_count": 2,
   "metadata": {},
   "outputs": [],
   "source": [
    "import sys\n",
    "sys.path.insert(0, 'ProLib/')"
   ]
  },
  {
   "cell_type": "code",
   "execution_count": 3,
   "metadata": {},
   "outputs": [],
   "source": [
    "#!ln -s /Users/mtinti/Desktop/git_projects/protUtil/ProLib ProLib"
   ]
  },
  {
   "cell_type": "code",
   "execution_count": 4,
   "metadata": {},
   "outputs": [],
   "source": [
    "import os\n",
    "from ProteomicsUtility import utilities as PTUT\n",
    "import pandas as pd\n",
    "import seaborn as sns\n",
    "import matplotlib.pyplot as plt\n",
    "import numpy as np\n",
    "plt.style.use('ggplot')"
   ]
  },
  {
   "cell_type": "markdown",
   "metadata": {},
   "source": [
    "## Load Data"
   ]
  },
  {
   "cell_type": "code",
   "execution_count": null,
   "metadata": {},
   "outputs": [],
   "source": [
    "#list(df.columns)"
   ]
  },
  {
   "cell_type": "code",
   "execution_count": null,
   "metadata": {},
   "outputs": [],
   "source": [
    "KnownComponents={\n",
    "'Tb11.v5.0765': 'TbPIGA',\n",
    "'Tb927.5.3680': 'TbPIGH',\n",
    "'Tb927.10.10110': 'TbPIGP',\n",
    "'Tb927.10.6140': 'TbPIGC',\n",
    "'Tb927.3.4570': 'TbPIGQ',\n",
    "'Tb927.4.780': 'TbPIGY',\n",
    "'Tb927.10.4610': 'TbDPM1',\n",
    "'Tb927.9.6440': 'TbDPM2',\n",
    "'Tb927.3.2480':'TbArv1'}"
   ]
  },
  {
   "cell_type": "code",
   "execution_count": null,
   "metadata": {},
   "outputs": [],
   "source": [
    "#PTUT.make_vulcano??"
   ]
  },
  {
   "cell_type": "code",
   "execution_count": null,
   "metadata": {},
   "outputs": [],
   "source": [
    "TXT_PATH = os.path.join('RUN_1', 'combined', 'txt')\n",
    "#TXT_PATH=''\n",
    "df = pd.read_csv(os.path.join(TXT_PATH, 'proteinGroups.txt'),sep='\\t')\n",
    "df = PTUT.clean_df(df, score=0, unique_pep_threshold=0)\n",
    "df = PTUT.mod_df(df)\n",
    "\n",
    "df['desc2'] = [ KnownComponents[g] if g in KnownComponents\n",
    "               else d  for g,d in zip(df['Gene_id'],df['desc'])]\n",
    "\n",
    "#tag = 'LFQ intensity'\n",
    "#tag = 'iBAQ'\n",
    "#tag='Intensity'\n",
    "tag='MS/MS count'\n",
    "bait_cols = [tag+' Bait_'+str(n) for n in range(1,4)]\n",
    "print(df.shape)\n",
    "#df = df[df[bait_cols].isna().sum(axis=1)==0]\n",
    "print(df.shape)\n",
    "control_cols = [tag+' Control_'+str(n) for n in range(1,4)]\n",
    "df[bait_cols]=df[bait_cols].replace(0,np.nan)\n",
    "df[control_cols]=df[control_cols].replace(0,np.nan)\n",
    "\n",
    "#df = df[df[bait_cols].isna().sum(axis=1)==0] \n",
    "\n",
    "df[bait_cols]=df[bait_cols]/df[bait_cols].median()\n",
    "df[control_cols]=df[control_cols]/df[control_cols].median()\n",
    "\n",
    "df[bait_cols]=df[bait_cols].replace(np.nan,0)\n",
    "df[control_cols]=df[control_cols].replace(np.nan,0)\n",
    "for c in bait_cols+control_cols:\n",
    "    df[c]=PTUT.impute(df[c])\n",
    "\n",
    " \n",
    "    \n",
    "df[bait_cols]=df[bait_cols]+df[bait_cols][df[bait_cols]>0].min()\n",
    "df[control_cols]=df[control_cols]+df[control_cols][df[control_cols]>0].min()\n",
    "\n",
    "\n",
    "df['FC']=np.log2(df[bait_cols].mean(axis=1,skipna=True)/\n",
    "                 df[control_cols].mean(axis=1,skipna=True))\n",
    "df['SumMSMS']=np.log10(df[bait_cols].mean(axis=1,skipna=True)+\n",
    "                 df[control_cols].mean(axis=1,skipna=True))\n",
    "\n",
    "fig, ax=plt.subplots(figsize=(12,8), ncols=1, nrows=1)\n",
    "ids = df[df.Gene_id.isin(KnownComponents.keys())]\n",
    "_ids = ids.index.values\n",
    "_names = ids.desc2\n",
    "print(len(_ids))\n",
    "print(len(_names))\n",
    "PTUT.make_vulcano(df, ax, \n",
    "                       x='SumMSMS', y='FC', \n",
    "             annot_index=_ids,\n",
    "             annot_names = _names,\n",
    "             title='MA',\n",
    "              fc_col = 'log2FC',\n",
    "                fc_limit=False,\n",
    "            point_size_selection=20,\n",
    "    point_size_all=10,\n",
    "                  text_size=14,\n",
    "                  alpha_main=0.1\n",
    "                  \n",
    "            )\n",
    "\n"
   ]
  },
  {
   "cell_type": "code",
   "execution_count": null,
   "metadata": {},
   "outputs": [],
   "source": [
    "TXT_PATH = os.path.join('RUN_1', 'combined', 'txt')\n",
    "#TXT_PATH=''\n",
    "df = pd.read_csv(os.path.join(TXT_PATH, 'proteinGroups.txt'),sep='\\t')\n",
    "df = PTUT.clean_df(df, score=4, unique_pep_threshold=2)\n",
    "df = PTUT.mod_df(df)\n",
    "print(df.shape)\n",
    "df.head()"
   ]
  },
  {
   "cell_type": "code",
   "execution_count": null,
   "metadata": {},
   "outputs": [],
   "source": [
    "ml_df=pd.read_csv('final_df.csv.gz',index_col=[0])\n",
    "aboundance_df = ml_df[['Gene ID','Abundance_BSF_pro']]\n",
    "aboundance_df.set_index('Gene ID',inplace=True)\n",
    "aboundance_df['BSF_rank']=aboundance_df['Abundance_BSF_pro'].rank(ascending=False)\n",
    "aboundance_df.head()\n",
    "import gc\n",
    "del ml_df\n",
    "gc.collect()"
   ]
  },
  {
   "cell_type": "code",
   "execution_count": null,
   "metadata": {},
   "outputs": [],
   "source": [
    "df=df.merge(aboundance_df,left_on='Gene_id',right_on='Gene ID',how='left')"
   ]
  },
  {
   "cell_type": "code",
   "execution_count": null,
   "metadata": {},
   "outputs": [],
   "source": [
    "KnownComponents={\n",
    "'Tb11.v5.0765': 'TbPIGA',\n",
    "'Tb927.5.3680': 'TbPIGH',\n",
    "'Tb927.10.10110': 'TbPIGP',\n",
    "'Tb927.10.6140': 'TbPIGC',\n",
    "'Tb927.3.4570': 'TbPIGQ',\n",
    "'Tb927.4.780': 'TbPIGY',\n",
    "'Tb927.10.4610': 'DPM1',\n",
    "'Tb927.9.6440': 'DPM2'}"
   ]
  },
  {
   "cell_type": "code",
   "execution_count": null,
   "metadata": {},
   "outputs": [],
   "source": [
    "df['desc2'] = [ KnownComponents[g] if g in KnownComponents else d \n",
    "               for g,d in zip(df['Gene_id'],df['desc'])]"
   ]
  },
  {
   "cell_type": "code",
   "execution_count": null,
   "metadata": {},
   "outputs": [],
   "source": [
    "cols = ['Gene_id','desc2','Peptide counts (razor+unique)','Score','Q-value','BSF_rank']\n",
    "df[df['Gene_id'].isin(KnownComponents.keys())][cols]"
   ]
  },
  {
   "cell_type": "code",
   "execution_count": null,
   "metadata": {},
   "outputs": [],
   "source": [
    "#list(df.columns)"
   ]
  },
  {
   "cell_type": "code",
   "execution_count": null,
   "metadata": {},
   "outputs": [],
   "source": [
    "#color palette\n",
    "palette=['b','b','b','r','r','r']\n",
    "palette_g = ['r','b']\n",
    "color_dictionary = { 'b':'Bait','r':'Control'}"
   ]
  },
  {
   "cell_type": "code",
   "execution_count": null,
   "metadata": {},
   "outputs": [],
   "source": [
    "tag = 'iBAQ'\n",
    "#tag='MS/MS count'\n",
    "bait_cols = [tag+' Bait_'+str(n) for n in range(1,4)]\n",
    "control_cols = [tag+' Control_'+str(n) for n in range(1,4)]\n",
    "cols = bait_cols+control_cols\n",
    "selection = df[cols]\n",
    "selection.columns = [n.replace(tag+' ','') for n in selection.columns]\n",
    "selection.head()"
   ]
  },
  {
   "cell_type": "code",
   "execution_count": null,
   "metadata": {},
   "outputs": [],
   "source": [
    "print(selection.shape)\n",
    "all_na = selection.replace(0,np.nan).isna().sum(axis=1)==6\n",
    "selection=selection[~all_na]\n",
    "print(selection.shape)"
   ]
  },
  {
   "cell_type": "markdown",
   "metadata": {},
   "source": [
    "## iBAQ analysis "
   ]
  },
  {
   "cell_type": "code",
   "execution_count": null,
   "metadata": {},
   "outputs": [],
   "source": [
    "plt.style.use('ggplot')\n",
    "fig,axes=plt.subplots(ncols=2,nrows=1,figsize=(14,4))\n",
    "\n",
    "np.log10(selection.replace(0,np.nan)).plot(\n",
    "    kind='kde', color=palette, alpha=0.5,ax=axes[0])\n",
    "axes[0].legend(loc='center left', bbox_to_anchor=(0.7, 0.5))\n",
    "axes[0].set_title('Value Distribution')\n",
    "axes[0].set_xlabel('Log10 Intensity')\n",
    "\n",
    "sns.boxplot(data =np.log10(selection.replace(0,np.nan)),\n",
    "            showfliers=False,palette=palette,ax=axes[1])\n",
    "plt.title('Value Distribution')\n",
    "plt.xlabel('Log10 Intensity')\n",
    "plt.savefig(os.path.join(TXT_PATH, 'value_distribution.png'))\n",
    "plt.show()"
   ]
  },
  {
   "cell_type": "code",
   "execution_count": null,
   "metadata": {},
   "outputs": [],
   "source": [
    "normed_df = selection.copy()\n",
    "normed_df[['Bait_1','Bait_2','Bait_3']] = normed_df[['Bait_1','Bait_2','Bait_3']].replace(0,np.nan)\n",
    "normed_df[['Bait_1','Bait_2','Bait_3']] = normed_df[['Bait_1','Bait_2','Bait_3']]/normed_df[['Bait_1','Bait_2','Bait_3']].median()\n",
    "\n",
    "normed_df[['Control_1','Control_2','Control_3']] = normed_df[['Control_1','Control_2','Control_3']].replace(0,np.nan)\n",
    "normed_df[['Control_1','Control_2','Control_3']] = normed_df[['Control_1','Control_2','Control_3']]/normed_df[['Control_1','Control_2','Control_3']].median()\n",
    "\n",
    "\n",
    "fig,axes=plt.subplots(ncols=2,nrows=1,figsize=(14,4))\n",
    "\n",
    "np.log10(normed_df.replace(0,np.nan)).plot(\n",
    "    kind='kde', color=palette, alpha=0.5,ax=axes[0])\n",
    "axes[0].legend(loc='center left', bbox_to_anchor=(0.7, 0.5))\n",
    "axes[0].set_title('Value Distribution')\n",
    "axes[0].set_xlabel('Log10 Intensity')\n",
    "\n",
    "sns.boxplot(data =np.log10(normed_df.replace(0,np.nan)),\n",
    "            showfliers=False,palette=palette,ax=axes[1])\n",
    "plt.title('Value Distribution')\n",
    "plt.xlabel('Log10 Intensity')\n",
    "plt.savefig(os.path.join(TXT_PATH, 'value_distribution.png'))\n",
    "plt.show()\n",
    "\n"
   ]
  },
  {
   "cell_type": "code",
   "execution_count": null,
   "metadata": {},
   "outputs": [],
   "source": []
  },
  {
   "cell_type": "markdown",
   "metadata": {},
   "source": [
    "## Missing Data"
   ]
  },
  {
   "cell_type": "code",
   "execution_count": null,
   "metadata": {},
   "outputs": [],
   "source": [
    "import missingno as msno\n",
    "import numpy as np\n",
    "import matplotlib.pyplot as plt\n",
    "#visualization of missing data\n",
    "ax=msno.bar(selection.replace(0,np.nan),figsize=(6, 6))\n",
    "plt.title('Missing Data Analysis',size=12)\n",
    "ax.set_ylabel('Fraction of data points',size=12)\n",
    "plt.tight_layout()\n",
    "plt.savefig('missing.png')\n",
    "plt.show()"
   ]
  },
  {
   "cell_type": "markdown",
   "metadata": {},
   "source": [
    "## Proteins Found only in bait"
   ]
  },
  {
   "cell_type": "code",
   "execution_count": null,
   "metadata": {},
   "outputs": [],
   "source": [
    "bait_nan = selection[['Bait_1','Bait_2','Bait_3']].replace(0,np.nan).isna().sum(axis=1)\n",
    "control_nan  = selection[['Control_1','Control_2','Control_3']].replace(0,np.nan).isna().sum(axis=1)\n",
    "only_bait = selection[(bait_nan==0) & (control_nan==3)]\n",
    "only_control = selection[(bait_nan==3) & (control_nan<3)]\n",
    "print(' Found only in Bait:',only_bait.shape[0],'\\n',\n",
    "      'Found only in Control:',only_control.shape[0])"
   ]
  },
  {
   "cell_type": "code",
   "execution_count": null,
   "metadata": {},
   "outputs": [],
   "source": [
    "#selection[['Bait_1','Bait_2','Bait_3']] = selection[['Bait_1','Bait_2','Bait_3']].replace(0,np.nan)\n",
    "#selection[['Bait_1','Bait_2','Bait_3']] = selection[['Bait_1','Bait_2','Bait_3']]/selection[['Bait_1','Bait_2','Bait_3']].median()\n",
    "only_bait['mean']=normed_df[['Bait_1','Bait_2','Bait_3']].replace(0,np.nan).mean(axis=1)\n",
    "to_look = only_bait.sort_values('mean', ascending=False).index.values\n",
    "temp = df.loc[to_look]\n",
    "temp=temp.join(normed_df[['Bait_1','Bait_2','Bait_3']])\n",
    "temp['mean']=temp[['Bait_1','Bait_2','Bait_3']].replace(0,np.nan).mean(axis=1,skipna=True)\n",
    "temp['exp_rank']=temp['mean'].rank(ascending=False)\n",
    "temp['rank_filter']=np.log2(temp['BSF_rank']/temp['exp_rank'])\n",
    "temp[['Gene_id','mean','Bait_1','Bait_2','Bait_3','desc2','Score','BSF_rank','exp_rank','rank_filter']].head(20)"
   ]
  },
  {
   "cell_type": "code",
   "execution_count": null,
   "metadata": {},
   "outputs": [],
   "source": [
    "temp.to_csv('only_bait.csv')"
   ]
  },
  {
   "cell_type": "code",
   "execution_count": null,
   "metadata": {},
   "outputs": [],
   "source": [
    "#print(selection.shape)\n",
    "#selection=selection[(bait_nan==0)]\n",
    "#print(selection.shape)"
   ]
  },
  {
   "cell_type": "markdown",
   "metadata": {},
   "source": [
    "## Differential Abundance"
   ]
  },
  {
   "cell_type": "markdown",
   "metadata": {},
   "source": [
    "### ProtRank indata"
   ]
  },
  {
   "cell_type": "code",
   "execution_count": null,
   "metadata": {},
   "outputs": [],
   "source": [
    "indata_prank=selection.join(df[['Gene_id']],how='left')\n",
    "indata_prank.set_index('Gene_id',drop=True,inplace=True)\n",
    "indata_prank=indata_prank\n",
    "indata_prank.to_csv(os.path.join(TXT_PATH, 'indata_ProtRank.csv'))\n",
    "indata_prank.head()"
   ]
  },
  {
   "cell_type": "code",
   "execution_count": null,
   "metadata": {},
   "outputs": [],
   "source": [
    "import ProtRank"
   ]
  },
  {
   "cell_type": "markdown",
   "metadata": {},
   "source": [
    "### ProtRank Test"
   ]
  },
  {
   "cell_type": "code",
   "execution_count": null,
   "metadata": {},
   "outputs": [],
   "source": [
    "what_to_compare = [[['Control_1', 'Bait_1'], ['Control_2', 'Bait_2' ], ['Control_3', 'Bait_3', ]]]\n",
    "ProtRank.data_stats(indata_prank, what_to_compare = what_to_compare)\n",
    "description = 'bait_vs_control'\n",
    "significant_proteins = ProtRank.rank_proteins(\n",
    "    indata_prank+indata_prank[indata_prank>0].min(), \n",
    "    what_to_compare, description,\n",
    "    path_to=TXT_PATH,num_bootstrap_realizations=100)"
   ]
  },
  {
   "cell_type": "code",
   "execution_count": null,
   "metadata": {},
   "outputs": [],
   "source": [
    "df[df['Gene_id'].isin(significant_proteins)][['Gene_id',\n",
    "                                              'desc2']]"
   ]
  },
  {
   "cell_type": "code",
   "execution_count": null,
   "metadata": {},
   "outputs": [],
   "source": [
    "temp_1 = pd.read_csv(os.path.join(TXT_PATH,'prs-bait_vs_control.dat'),\n",
    "                   sep='\\t', comment='#', index_col=[0],\n",
    "                   names=['Gene_id','rank','FDR','sign'])\n",
    "temp_1['log_FDR']=-np.log10(temp_1['FDR']+0.01)\n",
    "temp_1['log_rank']=np.log10(temp_1['rank'])\n",
    "temp_1['srank']=[n*1 if a=='+' else n*-1 for n,a in zip(temp_1['rank'],temp_1['sign'])]\n",
    "temp_1=temp_1.merge(df,left_on='Gene_id',right_on='Gene_id',how='left')\n",
    "#temp_1=temp_1.merge(aboundance_df,left_on='Gene_id',right_on='Gene ID',how='left')\n",
    "temp_1['exp_rank']=temp_1['rank'].rank(ascending=False)\n",
    "temp_1['rank_filter']=np.log2(temp_1['BSF_rank']/temp_1['exp_rank'])\n",
    "temp_1['BSF_rank2']=temp_1['BSF_rank'].fillna(temp_1['BSF_rank'].max())\n",
    "\n",
    "temp_1.head(50)\n",
    "temp_1.to_csv('all.txt')"
   ]
  },
  {
   "cell_type": "markdown",
   "metadata": {},
   "source": [
    "## Fig2 Static"
   ]
  },
  {
   "cell_type": "code",
   "execution_count": null,
   "metadata": {},
   "outputs": [],
   "source": [
    "plt.style.use('fivethirtyeight')\n",
    "#plt.style.use('classic')\n",
    "\n",
    "fig, axes=plt.subplots(figsize=(16,8), \n",
    "                     ncols=2, nrows=1)\n",
    "\n",
    "ids = temp_1[temp_1['srank']>40]\n",
    "_ids = ids.index.values\n",
    "_names = ids['desc2'].values\n",
    "print(len(_ids))\n",
    "print(len(_names))\n",
    "ax=axes[0]\n",
    "PTUT.make_vulcano(temp_1, ax, x='srank', y='log_FDR', \n",
    "             annot_index=_ids,\n",
    "             annot_names = _names,\n",
    "             title='',\n",
    "             #fc_limit=70,\n",
    "             fc_col='srank',\n",
    "                  alpha_main=0.3,\n",
    "             point_size_selection=30,\n",
    "             point_size_all=10,\n",
    "            text_size=12,          \n",
    "            )\n",
    "\n",
    "#ax.set_title('PIG-A interacting partners')\n",
    "ax.set_xlabel('Experiment Rank')\n",
    "ax.set_ylabel('Log10 FDR')\n",
    "#ax.legend(loc='upper center', bbox_to_anchor=(1.1, 0.9),\n",
    "#          title='Legend')\n",
    "ax.yaxis.label.set_size(18)\n",
    "ax.xaxis.label.set_size(18)\n",
    "ax.title.set_size(18)\n",
    "ax.tick_params(axis='both', which='major', labelsize=16)\n",
    "ax.text(-0.1, 1, 'A)', horizontalalignment='center', \n",
    "               verticalalignment='center',\n",
    "               transform=ax.transAxes,fontsize=16)\n",
    "\n",
    "ax=axes[1]\n",
    "PTUT.make_vulcano(temp_1, ax, x='srank', \n",
    "                  y='BSF_rank2', \n",
    "             annot_index=_ids,\n",
    "             annot_names = _names,\n",
    "             title='',\n",
    "             #fc_limit=70,\n",
    "             fc_col='srank',\n",
    "            alpha_main=0.3,\n",
    "             point_size_selection=30,\n",
    "             point_size_all=10,\n",
    "            text_size=12,          \n",
    "            )\n",
    "\n",
    "#ax.set_title('PIG-A interacting partners')\n",
    "ax.set_xlabel('Experiment Rank')\n",
    "ax.set_ylabel('BSF Abundance Rank')\n",
    "#ax.legend(loc='upper center', bbox_to_anchor=(1.1, 0.9),\n",
    "#          title='Legend')\n",
    "ax.yaxis.label.set_size(18)\n",
    "ax.xaxis.label.set_size(18)\n",
    "ax.title.set_size(18)\n",
    "ax.tick_params(axis='both', which='major', labelsize=16)\n",
    "\n",
    "ax.text(-0.1, 1, 'B)', horizontalalignment='center', \n",
    "               verticalalignment='center',\n",
    "               transform=ax.transAxes,fontsize=16)\n",
    "\n",
    "plt.suptitle('TbPIGA Interacting Partners')\n",
    "\n",
    "plt.show()\n",
    "plt.savefig('Fig2.svg')"
   ]
  },
  {
   "cell_type": "markdown",
   "metadata": {},
   "source": [
    "## Fig2 Interactive"
   ]
  },
  {
   "cell_type": "code",
   "execution_count": null,
   "metadata": {},
   "outputs": [],
   "source": [
    "import plotly.express as px\n",
    "from plotly.subplots import make_subplots\n",
    "\n",
    "\n",
    "\n",
    "fig1 = px.scatter(temp_1, x='srank', y='log_FDR', #color=\"log_FDR\",\n",
    "                 #title='PIGA interacting partners',\n",
    "                 width=800, height=600,\n",
    "                 hover_name=\"Gene_id\", hover_data=[\"desc2\"],\n",
    "                 #color_continuous_scale='Bluered',#px.colors.sequential.Viridis,\n",
    "                )\n",
    "\n",
    "\n",
    "fig2 = px.scatter(temp_1, x='srank', y='BSF_rank2', #color=\"log_FDR\",\n",
    "                 #title='PIGA interacting partners',\n",
    "                 width=800, height=600,\n",
    "                 hover_name=\"Gene_id\", hover_data=[\"desc2\"],\n",
    "                 #color_continuous_scale='Bluered',#px.colors.sequential.Viridis,\n",
    "                )\n",
    "\n",
    "\n",
    "\n",
    "trace1 = fig1['data'][0]\n",
    "trace2 = fig2['data'][0]\n",
    "\n",
    "fig = make_subplots(rows=1, cols=2, shared_xaxes=False,shared_yaxes=False)\n",
    "fig.add_trace(trace1, row=1, col=1)\n",
    "fig.add_trace(trace2, row=1, col=2)\n",
    "\n",
    "#fig.show()\n",
    "fig.write_html(\"PIGA.html\")"
   ]
  },
  {
   "cell_type": "code",
   "execution_count": null,
   "metadata": {},
   "outputs": [],
   "source": [
    "from IPython.display import IFrame\n",
    "IFrame(\"PIGA.html\", width=1000, height=600)"
   ]
  },
  {
   "cell_type": "code",
   "execution_count": null,
   "metadata": {},
   "outputs": [],
   "source": [
    "temp_1.to_csv('Dataset.csv')"
   ]
  },
  {
   "cell_type": "code",
   "execution_count": null,
   "metadata": {},
   "outputs": [],
   "source": [
    "!jupyter nbconvert --to html_toc analysis_def.ipynb"
   ]
  },
  {
   "cell_type": "code",
   "execution_count": 5,
   "metadata": {},
   "outputs": [
    {
     "name": "stdout",
     "output_type": "stream",
     "text": [
      "fatal: pathspec 'ProLib/ProteomicsUtility/utilities.py' is beyond a symbolic link\n",
      "[master e79c9eb] new fig2\n",
      " Committer: Michele Tinti <mtinti@ls29490.local>\n",
      "Your name and email address were configured automatically based\n",
      "on your username and hostname. Please check that they are accurate.\n",
      "You can suppress this message by setting them explicitly:\n",
      "\n",
      "    git config --global user.name \"Your Name\"\n",
      "    git config --global user.email you@example.com\n",
      "\n",
      "After doing this, you may fix the identity used for this commit with:\n",
      "\n",
      "    git commit --amend --reset-author\n",
      "\n",
      " 1 file changed, 756 insertions(+), 2054 deletions(-)\n",
      " rewrite analysis_def.ipynb (94%)\n",
      "Counting objects: 3, done.\n",
      "Delta compression using up to 8 threads.\n",
      "Compressing objects: 100% (3/3), done.\n",
      "Writing objects: 100% (3/3), 607 bytes | 0 bytes/s, done.\n",
      "Total 3 (delta 2), reused 0 (delta 0)\n",
      "remote: Resolving deltas: 100% (2/2), completed with 2 local objects.\u001b[K\n",
      "To https://github.com/mtinti/PIG-A.git\n",
      "   5088dde..e79c9eb  master -> master\n",
      "Branch master set up to track remote branch master from origin.\n"
     ]
    }
   ],
   "source": [
    "!git add analysis_def*\n",
    "!git add PIGA.html\n",
    "!git add ProLib/ProteomicsUtility/utilities.py\n",
    "!git add -u\n",
    "!git commit -m 'new fig2'\n",
    "!git push -u origin master"
   ]
  },
  {
   "cell_type": "code",
   "execution_count": null,
   "metadata": {},
   "outputs": [],
   "source": []
  }
 ],
 "metadata": {
  "hide_input": false,
  "kernelspec": {
   "display_name": "Python 3",
   "language": "python",
   "name": "python3"
  },
  "language_info": {
   "codemirror_mode": {
    "name": "ipython",
    "version": 3
   },
   "file_extension": ".py",
   "mimetype": "text/x-python",
   "name": "python",
   "nbconvert_exporter": "python",
   "pygments_lexer": "ipython3",
   "version": "3.8.2"
  },
  "toc": {
   "base_numbering": 1,
   "nav_menu": {},
   "number_sections": true,
   "sideBar": true,
   "skip_h1_title": false,
   "title_cell": "Table of Contents",
   "title_sidebar": "Contents",
   "toc_cell": false,
   "toc_position": {},
   "toc_section_display": true,
   "toc_window_display": true
  }
 },
 "nbformat": 4,
 "nbformat_minor": 4
}
